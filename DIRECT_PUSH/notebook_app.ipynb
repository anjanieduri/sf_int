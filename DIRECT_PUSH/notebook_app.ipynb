{
 "metadata": {
  "kernelspec": {
   "display_name": "Streamlit Notebook",
   "name": "streamlit"
  }
 },
 "nbformat_minor": 5,
 "nbformat": 4,
 "cells": [
  {
   "cell_type": "code",
   "id": "8d50cbf4-0c8d-4950-86cb-114990437ac9",
   "metadata": {
    "language": "sql",
    "name": "cell2"
   },
   "source": "-- Welcome to Snowflake Notebooks!\n-- Try out a SQL cell to generate some data.\nSELECT 'FRIDAY' as SNOWDAY, 0.2 as CHANCE_OF_SNOW\nUNION ALL\nSELECT 'SATURDAY',0.5\nUNION ALL \nSELECT 'SUNDAY', 0.9;",
   "execution_count": null,
   "outputs": []
  },
  {
   "cell_type": "code",
   "id": "c695373e-ac74-4b62-a1f1-08206cbd5c81",
   "metadata": {
    "language": "python",
    "name": "cell3"
   },
   "source": "# Then, we can use the python name to turn cell2 into a Pandas dataframe\nmy_df = cell2.to_pandas()\n\n# Chart the data\nst.subheader(\"Chance of SNOW ❄️\")\nst.line_chart(my_df, x='SNOWDAY', y='CHANCE_OF_SNOW')\n\n# Give it a go!\nst.subheader(\"Try it out yourself and show off your skills 🥇\")",
   "execution_count": null,
   "outputs": []
  },
  {
   "cell_type": "code",
   "id": "87f9404c-8d1a-4c50-93b9-4d0ab52ceb9e",
   "metadata": {
    "language": "sql",
    "name": "cell1"
   },
   "outputs": [],
   "source": "--This is sample comments in SQL",
   "execution_count": null
  },
  {
   "cell_type": "code",
   "id": "e3e4fefd-34b7-48ac-82ed-f8b51168c318",
   "metadata": {
    "language": "sql",
    "name": "cell4",
    "collapsed": false
   },
   "outputs": [],
   "source": "create or replace view sample_vw as\nselect * from table3;",
   "execution_count": null
  },
  {
   "cell_type": "code",
   "id": "f4d42800-9296-4e09-8261-a2246d2ec784",
   "metadata": {
    "language": "sql",
    "name": "cell5"
   },
   "outputs": [],
   "source": "select * from sample_vw",
   "execution_count": null
  },
  {
   "cell_type": "code",
   "id": "5815f0e4-9acb-4163-9342-f991a89bbea1",
   "metadata": {
    "language": "sql",
    "name": "cell6"
   },
   "outputs": [],
   "source": "CREATE OR REPLACE PROCEDURE ANJANI_TEST.ANJANI_SCH.TEST_LINEAGE()\nRETURNS VARCHAR(16777216)\nLANGUAGE SQL\nEXECUTE AS OWNER\nAS 'Begin\ninsert into table3 select * from table1;\n\nEND';",
   "execution_count": null
  }
 ]
}