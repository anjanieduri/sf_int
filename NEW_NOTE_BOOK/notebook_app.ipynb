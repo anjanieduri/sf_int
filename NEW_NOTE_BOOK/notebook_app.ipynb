{
 "metadata": {
  "kernelspec": {
   "display_name": "Streamlit Notebook",
   "name": "streamlit"
  }
 },
 "nbformat_minor": 5,
 "nbformat": 4,
 "cells": [
  {
   "cell_type": "code",
   "id": "0c609d91-1076-4216-9579-066ee3a4c35c",
   "metadata": {
    "language": "sql",
    "name": "cell1"
   },
   "outputs": [],
   "source": "create or replace view test_vw as \nselect * from table1;\n\ncreate or replace view test_vw2 as \nselect * from table3; ",
   "execution_count": null
  }
 ]
}